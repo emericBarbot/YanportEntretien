{
 "cells": [
  {
   "cell_type": "code",
   "execution_count": null,
   "metadata": {},
   "outputs": [],
   "source": [
    "import pandas\n",
    "\n",
    "\n",
    "dataImmo = pandas.read_csv('Dataset - Ads _ Levallois-Perret - 2019-08 - export-ads-levallois-perret-2019-08-27.csv')\n",
    "dataImmoV2 = pandas.DataFrame(columns=dataImmo.columns)\n",
    "\n",
    "\n",
    "\n",
    "# j'itere chaque annonce\n",
    "for index, row in dataImmo.iterrows():\n",
    "    # Regarder si l'annonce porte sur le même bien immobilier qu'une annonce déjà enregistrée dans dataImmoV2\n",
    "    NumColonneSimilaire = dataImmoV2.loc[(dataImmoV2['SURFACE'] == row['SURFACE']) &\n",
    "                             (dataImmoV2['PRICE'] == row['PRICE']) &\n",
    "                             (dataImmoV2['PROPERTY_TYPE'] == row['PROPERTY_TYPE'])   ]\n",
    "    \n",
    "\n",
    "    if not NumColonneSimilaire.empty:\n",
    "        # Le bien existe déjà dans dataImmoV2 => On ajoute le lien de l'annonce et le nom du site dans le bien déjà existant dans dataImmoV2\n",
    "        dataImmoV2.loc[NumColonneSimilaire.index, 'URL'] += '; ' + row['URL']\n",
    "        dataImmoV2.loc[NumColonneSimilaire.index, 'CRAWL_SOURCE'] += '; ' + row['CRAWL_SOURCE']\n",
    "\n",
    "\n",
    "    else:\n",
    "        # Le bien n'existe pas déjà dans dataImmoV2 => On ajoute la colonne du bien à dataImmoV2\n",
    "        dataImmoV2 = pandas.concat([dataImmoV2, row.to_frame().T], ignore_index=True)\n",
    "\n",
    "\n",
    "dataImmoV2.to_csv('DatasetModifié.csv', index=False)\n",
    "\n"
   ]
  }
 ],
 "metadata": {
  "language_info": {
   "name": "python"
  },
  "orig_nbformat": 4
 },
 "nbformat": 4,
 "nbformat_minor": 2
}
